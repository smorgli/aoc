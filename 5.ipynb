{
 "cells": [
  {
   "cell_type": "code",
   "execution_count": 1,
   "metadata": {},
   "outputs": [],
   "source": [
    "import helpers.funs\n",
    "#import inputs.input5_1\n",
    "import re\n",
    "from itertools import chain"
   ]
  },
  {
   "cell_type": "code",
   "execution_count": 2,
   "metadata": {},
   "outputs": [],
   "source": [
    "raw = helpers.funs.getfile('input5.txt')\n",
    "starting_crates_raw = [\n",
    "['X'],\n",
    "['X','G','T','R','W'],\n",
    "['X','G','C','H','P','M','S','V','W'],\n",
    "['X','C','L','T','S','G','M'],\n",
    "['X','J','H','D','M','W','R','F'],\n",
    "['X','P','Q','L','H','S','W','F','J'],\n",
    "['X','P','J','D','N','F','M','S'],\n",
    "['X','Z','B','D','F','G','C','S','J'],\n",
    "['X','R','T','B'],\n",
    "['X','H','N','W','L','C']\n",
    "]"
   ]
  },
  {
   "cell_type": "code",
   "execution_count": 3,
   "metadata": {},
   "outputs": [
    {
     "data": {
      "text/plain": [
       "'move 3 from 4 to 3'"
      ]
     },
     "execution_count": 3,
     "metadata": {},
     "output_type": "execute_result"
    }
   ],
   "source": [
    "input = raw.copy()\n",
    "input[0]"
   ]
  },
  {
   "cell_type": "code",
   "execution_count": 4,
   "metadata": {},
   "outputs": [],
   "source": [
    "j = 0\n",
    "for i in input:\n",
    "    input[j] = re.sub('move ','',i)\n",
    "    input[j] = re.sub('from ','',input[j])\n",
    "    input[j] = re.sub('to ','',input[j])\n",
    "    input[j] = input[j].split(' ')\n",
    "#   let's not do this ok\n",
    "    j2 = 0\n",
    "    for i2 in input[j]:\n",
    "        input[j][j2] = int(i2)\n",
    "        j2 += 1\n",
    "    j += 1"
   ]
  },
  {
   "cell_type": "code",
   "execution_count": 5,
   "metadata": {},
   "outputs": [],
   "source": [
    "def move(crates, move_from, move_to):\n",
    "    buffer = crates[move_from][-1]\n",
    "    crates[move_to].append(buffer)\n",
    "    crates[move_from] = crates[move_from][:-1]\n",
    "    return crates\n",
    "\n",
    "def crane(crates,instructions):\n",
    "    for i in instructions:\n",
    "        move_amount = i[0]\n",
    "        move_from = i[1]\n",
    "        move_to = i[2]\n",
    "        for moves in range(0,move_amount):\n",
    "            crates = move(crates, move_from, move_to)\n",
    "    return crates"
   ]
  },
  {
   "cell_type": "code",
   "execution_count": 6,
   "metadata": {},
   "outputs": [],
   "source": [
    "#starting_crates = inputs.input5_1.crates# have to restart jupyter kernel for each load of this for some reson\n",
    "#starting_crates = starting_crates_raw.copy()\n",
    "#result = crane(starting_crates,input)\n",
    "#for i in result:\n",
    "#    print(i[-1])"
   ]
  },
  {
   "cell_type": "markdown",
   "metadata": {},
   "source": [
    "## 2"
   ]
  },
  {
   "cell_type": "code",
   "execution_count": 7,
   "metadata": {},
   "outputs": [],
   "source": [
    "def movebatch(crates, move_from, move_to, move_amount):\n",
    "    buffer = crates[move_from][-move_amount:]\n",
    "    crates[move_to].append(buffer)\n",
    "    crates[move_to] = list(chain.from_iterable(crates[move_to]))# flattens list\n",
    "    crates[move_from] = crates[move_from][:-move_amount]\n",
    "    return crates\n",
    "\n",
    "def crane9001(crates,instructions):\n",
    "    for i in instructions:\n",
    "        move_amount = i[0]\n",
    "        move_from = i[1]\n",
    "        move_to = i[2]\n",
    "        crates = movebatch(crates, move_from, move_to, move_amount)\n",
    "    return crates"
   ]
  },
  {
   "cell_type": "code",
   "execution_count": null,
   "metadata": {},
   "outputs": [],
   "source": [
    "#starting_crates = inputs.input5_1.crates# have to restart jupyter kernel for each load of this for some reson\n",
    "starting_crates = starting_crates_raw.copy()\n",
    "result = crane9001(starting_crates,input)\n",
    "result"
   ]
  },
  {
   "cell_type": "code",
   "execution_count": 9,
   "metadata": {},
   "outputs": [
    {
     "name": "stdout",
     "output_type": "stream",
     "text": [
      "X\n",
      "L\n",
      "V\n",
      "M\n",
      "R\n",
      "W\n",
      "S\n",
      "S\n",
      "P\n",
      "Z\n"
     ]
    }
   ],
   "source": [
    "for i in result:\n",
    "    print(i[-1])"
   ]
  }
 ],
 "metadata": {
  "kernelspec": {
   "display_name": "Python 3.10.4 64-bit",
   "language": "python",
   "name": "python3"
  },
  "language_info": {
   "codemirror_mode": {
    "name": "ipython",
    "version": 3
   },
   "file_extension": ".py",
   "mimetype": "text/x-python",
   "name": "python",
   "nbconvert_exporter": "python",
   "pygments_lexer": "ipython3",
   "version": "3.10.4"
  },
  "orig_nbformat": 4,
  "vscode": {
   "interpreter": {
    "hash": "f64566073b4652d08f7b8e7acf6c9d8feebc1a8b5e0a35db8fac88086ef97a92"
   }
  }
 },
 "nbformat": 4,
 "nbformat_minor": 2
}
