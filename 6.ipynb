{
 "cells": [
  {
   "cell_type": "code",
   "execution_count": 7,
   "metadata": {},
   "outputs": [],
   "source": [
    "import helpers.funs\n",
    "import re"
   ]
  },
  {
   "cell_type": "code",
   "execution_count": 5,
   "metadata": {},
   "outputs": [],
   "source": [
    "input = helpers.funs.getfile('input6.txt')\n",
    "input = input[0]"
   ]
  },
  {
   "cell_type": "code",
   "execution_count": 15,
   "metadata": {},
   "outputs": [],
   "source": [
    "#let's not\n",
    "#re.findall('(\\w)(?!\\1)',input)"
   ]
  },
  {
   "cell_type": "code",
   "execution_count": 48,
   "metadata": {},
   "outputs": [],
   "source": [
    "def remover(seq,packet_len):\n",
    "    if len(seq) > packet_len:\n",
    "        seq = seq[1:]\n",
    "        return seq\n",
    "    else:\n",
    "        return seq\n",
    "\n",
    "def adder(char,seq,packet_len):\n",
    "    if len(seq) <= packet_len:\n",
    "        seq.append(char)\n",
    "        return seq\n",
    "    else:\n",
    "        return seq\n",
    "\n",
    "def mover(char,seq,packet_len):\n",
    "    seq = adder(char,seq,packet_len)\n",
    "    seq = remover(seq,packet_len)\n",
    "    return seq\n",
    "\n",
    "def checker(seq,packet_len):\n",
    "    if len(list(set(seq))) == packet_len:\n",
    "        return seq\n",
    "\n",
    "def find(input,packet_len):\n",
    "    seq = []\n",
    "    found = None\n",
    "    for char in input:\n",
    "        seq = mover(char,seq,packet_len)\n",
    "        if len(seq) == packet_len:\n",
    "            found = checker(seq,packet_len)\n",
    "            if found != None:\n",
    "                return found\n",
    "\n",
    "def resultize(found, input):\n",
    "    match = re.search(found, input)\n",
    "    print(match.end())\n",
    "\n",
    "def main(input,packet_len):\n",
    "    found = find(input,packet_len)\n",
    "    found = ''.join(found)\n",
    "    resultize(found, input)"
   ]
  },
  {
   "cell_type": "code",
   "execution_count": 49,
   "metadata": {},
   "outputs": [
    {
     "name": "stdout",
     "output_type": "stream",
     "text": [
      "1356\n",
      "2564\n"
     ]
    }
   ],
   "source": [
    "main(input,4)\n",
    "main(input,14)"
   ]
  }
 ],
 "metadata": {
  "kernelspec": {
   "display_name": "Python 3.10.4 64-bit",
   "language": "python",
   "name": "python3"
  },
  "language_info": {
   "codemirror_mode": {
    "name": "ipython",
    "version": 3
   },
   "file_extension": ".py",
   "mimetype": "text/x-python",
   "name": "python",
   "nbconvert_exporter": "python",
   "pygments_lexer": "ipython3",
   "version": "3.10.4"
  },
  "orig_nbformat": 4,
  "vscode": {
   "interpreter": {
    "hash": "f64566073b4652d08f7b8e7acf6c9d8feebc1a8b5e0a35db8fac88086ef97a92"
   }
  }
 },
 "nbformat": 4,
 "nbformat_minor": 2
}
