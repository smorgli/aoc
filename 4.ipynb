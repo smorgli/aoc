{
 "cells": [
  {
   "cell_type": "code",
   "execution_count": 1,
   "metadata": {},
   "outputs": [],
   "source": [
    "import helpers.funs"
   ]
  },
  {
   "cell_type": "code",
   "execution_count": 3,
   "metadata": {},
   "outputs": [],
   "source": [
    "raw = helpers.funs.getfile('input4.txt')"
   ]
  },
  {
   "cell_type": "code",
   "execution_count": 56,
   "metadata": {},
   "outputs": [],
   "source": [
    "lines = raw.copy()"
   ]
  },
  {
   "cell_type": "code",
   "execution_count": 57,
   "metadata": {},
   "outputs": [],
   "source": [
    "k = 0\n",
    "for pair in lines:\n",
    "    lines[k] = pair.split(',')\n",
    "    k += 1"
   ]
  },
  {
   "cell_type": "code",
   "execution_count": 58,
   "metadata": {},
   "outputs": [],
   "source": [
    "j = 0\n",
    "i = 0\n",
    "for pair in lines:\n",
    "    j = 0\n",
    "    for elf in pair:\n",
    "        pair[j] = elf.split('-')\n",
    "        pair[j][0] = int(pair[j][0])\n",
    "        pair[j][1] = int(pair[j][1])\n",
    "        j += 1"
   ]
  },
  {
   "cell_type": "code",
   "execution_count": 96,
   "metadata": {},
   "outputs": [],
   "source": [
    "def check_contains_range(rangelist):\n",
    "        range1 = rangelist[0]\n",
    "        range2 = rangelist[1]\n",
    "        lb1 = min(range1)\n",
    "        ub1 = max(range1)\n",
    "        lb2 = min(range2)\n",
    "        ub2 = max(range2)\n",
    "        if lb1 <= lb2 and ub1 >= ub2:\n",
    "            return True\n",
    "        elif lb2 <= lb1 and ub2 >= ub1:\n",
    "            return True\n",
    "        else:\n",
    "            return False"
   ]
  },
  {
   "cell_type": "code",
   "execution_count": 102,
   "metadata": {},
   "outputs": [
    {
     "name": "stdout",
     "output_type": "stream",
     "text": [
      "[[47, 80], [79, 80]]\n"
     ]
    },
    {
     "data": {
      "text/plain": [
       "True"
      ]
     },
     "execution_count": 102,
     "metadata": {},
     "output_type": "execute_result"
    }
   ],
   "source": [
    "test = lines[2]\n",
    "print(test)\n",
    "check_contains_range(test)"
   ]
  },
  {
   "cell_type": "code",
   "execution_count": 104,
   "metadata": {},
   "outputs": [],
   "source": [
    "result = []\n",
    "for pair in lines:\n",
    "    result.append(check_contains_range(pair))"
   ]
  },
  {
   "cell_type": "code",
   "execution_count": 107,
   "metadata": {},
   "outputs": [
    {
     "data": {
      "text/plain": [
       "466"
      ]
     },
     "execution_count": 107,
     "metadata": {},
     "output_type": "execute_result"
    }
   ],
   "source": [
    "result.count(True)"
   ]
  },
  {
   "cell_type": "markdown",
   "metadata": {},
   "source": [
    "## dwujeczka"
   ]
  },
  {
   "cell_type": "code",
   "execution_count": 113,
   "metadata": {},
   "outputs": [],
   "source": [
    "def check_contains_range2(rangelist):\n",
    "        range1 = rangelist[0]\n",
    "        range2 = rangelist[1]\n",
    "        lb1 = min(range1)\n",
    "        ub1 = max(range1)\n",
    "        lb2 = min(range2)\n",
    "        ub2 = max(range2)\n",
    "        if ub1 >= lb2 and lb1 <= ub2: # uuuhhh\n",
    "            return True\n",
    "        else:\n",
    "            return False"
   ]
  },
  {
   "cell_type": "code",
   "execution_count": 111,
   "metadata": {},
   "outputs": [
    {
     "name": "stdout",
     "output_type": "stream",
     "text": [
      "[[47, 80], [79, 80]]\n"
     ]
    },
    {
     "data": {
      "text/plain": [
       "True"
      ]
     },
     "execution_count": 111,
     "metadata": {},
     "output_type": "execute_result"
    }
   ],
   "source": [
    "test = lines[2]\n",
    "print(test)\n",
    "check_contains_range(test)"
   ]
  },
  {
   "cell_type": "code",
   "execution_count": 114,
   "metadata": {},
   "outputs": [
    {
     "name": "stdout",
     "output_type": "stream",
     "text": [
      "865\n"
     ]
    }
   ],
   "source": [
    "result = []\n",
    "for pair in lines:\n",
    "    result.append(check_contains_range2(pair))\n",
    "print(result.count(True))"
   ]
  },
  {
   "cell_type": "code",
   "execution_count": null,
   "metadata": {},
   "outputs": [],
   "source": []
  }
 ],
 "metadata": {
  "kernelspec": {
   "display_name": "Python 3.10.4 64-bit",
   "language": "python",
   "name": "python3"
  },
  "language_info": {
   "codemirror_mode": {
    "name": "ipython",
    "version": 3
   },
   "file_extension": ".py",
   "mimetype": "text/x-python",
   "name": "python",
   "nbconvert_exporter": "python",
   "pygments_lexer": "ipython3",
   "version": "3.10.4"
  },
  "orig_nbformat": 4,
  "vscode": {
   "interpreter": {
    "hash": "f64566073b4652d08f7b8e7acf6c9d8feebc1a8b5e0a35db8fac88086ef97a92"
   }
  }
 },
 "nbformat": 4,
 "nbformat_minor": 2
}
